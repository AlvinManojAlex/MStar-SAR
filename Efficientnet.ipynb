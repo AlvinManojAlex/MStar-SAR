{
 "cells": [
  {
   "cell_type": "code",
   "execution_count": 8,
   "id": "01650f3d",
   "metadata": {},
   "outputs": [],
   "source": [
    "import torch\n",
    "import torch.nn as nn\n",
    "import torch.optim as optim\n",
    "from torch.utils.data import DataLoader\n",
    "from torchvision.transforms import transforms\n",
    "from torchvision.datasets import ImageFolder\n",
    "from efficientnet_pytorch import EfficientNet\n",
    "import os\n",
    "import numpy as np\n",
    "from sklearn.metrics import confusion_matrix\n",
    "import seaborn as sns\n",
    "import matplotlib.pyplot as plt\n"
   ]
  },
  {
   "cell_type": "code",
   "execution_count": 9,
   "id": "6115c43b",
   "metadata": {},
   "outputs": [],
   "source": [
    "# Set the path to your dataset\n",
    "dataset_dir = \"\"\n",
    "\n",
    "# Set the input size for resizing the images\n",
    "input_size = (128,128)\n",
    "\n",
    "# Define the transformation to be applied to the images\n",
    "transform = transforms.Compose([\n",
    "    transforms.Resize(input_size),\n",
    "    transforms.ToTensor(),\n",
    "])"
   ]
  },
  {
   "cell_type": "code",
   "execution_count": 10,
   "id": "711d2d95",
   "metadata": {},
   "outputs": [],
   "source": [
    "# Load the training dataset\n",
    "train_dataset = ImageFolder(root=os.path.join(dataset_dir, 'train'), transform=transform)\n",
    "train_loader = DataLoader(train_dataset, batch_size=32, shuffle=True)\n",
    "\n",
    "# Load the test dataset\n",
    "test_dataset = ImageFolder(root=os.path.join(dataset_dir, 'test'), transform=transform)\n",
    "test_loader = DataLoader(test_dataset, batch_size=32, shuffle=False)"
   ]
  },
  {
   "cell_type": "code",
   "execution_count": 11,
   "id": "15fd04e3",
   "metadata": {},
   "outputs": [],
   "source": [
    "# Set device (CPU or GPU)\n",
    "device = torch.device(\"cpu\")"
   ]
  },
  {
   "cell_type": "code",
   "execution_count": 13,
   "id": "2b746605",
   "metadata": {},
   "outputs": [
    {
     "name": "stdout",
     "output_type": "stream",
     "text": [
      "Loaded pretrained weights for efficientnet-b0\n"
     ]
    }
   ],
   "source": [
    "num_epochs = 20\n",
    "num_classes = len(train_dataset.classes)\n",
    "\n",
    "# Load the pre-trained EfficientNet model\n",
    "model = EfficientNet.from_pretrained('efficientnet-b0', num_classes=num_classes)\n",
    "\n",
    "# Move the model to the device\n",
    "model = model.to(device)"
   ]
  },
  {
   "cell_type": "code",
   "execution_count": 14,
   "id": "5a02644a",
   "metadata": {},
   "outputs": [],
   "source": [
    "# Define the loss function\n",
    "criterion = nn.CrossEntropyLoss()\n",
    "\n",
    "# Define the optimizer\n",
    "optimizer = optim.Adam(model.parameters(), lr=0.001)"
   ]
  },
  {
   "cell_type": "code",
   "execution_count": 15,
   "id": "270b9225",
   "metadata": {},
   "outputs": [
    {
     "name": "stdout",
     "output_type": "stream",
     "text": [
      "Epoch [1/20], Train Loss: 0.7045\n",
      "Epoch [2/20], Train Loss: 0.2441\n",
      "Epoch [3/20], Train Loss: 0.1482\n",
      "Epoch [4/20], Train Loss: 0.0817\n",
      "Epoch [5/20], Train Loss: 0.0643\n",
      "Epoch [6/20], Train Loss: 0.0659\n",
      "Epoch [7/20], Train Loss: 0.0519\n",
      "Epoch [8/20], Train Loss: 0.0743\n",
      "Epoch [9/20], Train Loss: 0.0333\n",
      "Epoch [10/20], Train Loss: 0.0245\n",
      "Epoch [11/20], Train Loss: 0.0448\n",
      "Epoch [12/20], Train Loss: 0.0372\n",
      "Epoch [13/20], Train Loss: 0.0200\n",
      "Epoch [14/20], Train Loss: 0.0111\n",
      "Epoch [15/20], Train Loss: 0.0336\n",
      "Epoch [16/20], Train Loss: 0.0558\n",
      "Epoch [17/20], Train Loss: 0.0120\n",
      "Epoch [18/20], Train Loss: 0.0089\n",
      "Epoch [19/20], Train Loss: 0.0049\n",
      "Epoch [20/20], Train Loss: 0.0061\n"
     ]
    }
   ],
   "source": [
    "# Training loop\n",
    "\n",
    "for epoch in range(num_epochs):\n",
    "    model.train()\n",
    "    train_loss = 0.0\n",
    "\n",
    "    for images, labels in train_loader:\n",
    "        images = images.to(device)\n",
    "        labels = labels.to(device)\n",
    "\n",
    "        # Forward pass\n",
    "        outputs = model(images)\n",
    "        loss = criterion(outputs, labels)\n",
    "\n",
    "        # Backward pass and optimization\n",
    "        optimizer.zero_grad()\n",
    "        loss.backward()\n",
    "        optimizer.step()\n",
    "\n",
    "        train_loss += loss.item()\n",
    "\n",
    "    # Calculate average train loss for the epoch\n",
    "    train_loss /= len(train_loader)\n",
    "\n",
    "    # Print the train loss for the epoch\n",
    "    print(f\"Epoch [{epoch+1}/{num_epochs}], Train Loss: {train_loss:.4f}\")\n"
   ]
  },
  {
   "cell_type": "code",
   "execution_count": null,
   "id": "c2c991a6",
   "metadata": {},
   "outputs": [],
   "source": [
    "# Uncomment below lines to save model\n",
    "# # Path for the saved model\n",
    "# path = './models/<put_name_here>.pt'\n",
    "# Comment out below line if you have already saved model and just want to retrieve it (not saving)\n",
    "# # torch.save(model.state_dict(), path)"
   ]
  },
  {
   "cell_type": "code",
   "execution_count": 16,
   "id": "26f528ba",
   "metadata": {},
   "outputs": [
    {
     "name": "stdout",
     "output_type": "stream",
     "text": [
      "Test Accuracy: 99.07%\n"
     ]
    }
   ],
   "source": [
    "# Testing loop\n",
    "model.load_state_dict(torch.load(path))\n",
    "model.eval()\n",
    "test_correct = 0\n",
    "\n",
    "preds_tensor = torch.Tensor()\n",
    "labels_tensor = torch.Tensor()\n",
    "\n",
    "with torch.no_grad():\n",
    "    for images, labels in test_loader:\n",
    "        images = images.to(device)\n",
    "        labels = labels.to(device)\n",
    "\n",
    "        outputs = model(images)\n",
    "        _, predicted = torch.max(outputs, 1)\n",
    "\n",
    "        preds_tensor = torch.cat((preds_tensor, predicted))\n",
    "        labels_tensor = torch.cat((labels_tensor, labels))\n",
    "        test_correct += (predicted == labels).sum().item()\n",
    "\n",
    "final_test_accuracy = test_correct / len(test_dataset)\n",
    "print(f\"Final Test Accuracy: {final_test_accuracy:.4f}\")\n"
   ]
  },
  {
   "cell_type": "code",
   "execution_count": null,
   "id": "59f6a643",
   "metadata": {},
   "outputs": [],
   "source": [
    "preds = preds_tensor.numpy()\n",
    "actual = labels_tensor.numpy()\n",
    "\n",
    "# Define the mapping dictionary\n",
    "class_mapping = {\n",
    "    0: '2S1',\n",
    "    1: 'BMP2',\n",
    "    2: 'BRDM2',\n",
    "    3: 'BTR60',\n",
    "    4: 'BTR70',\n",
    "    5: 'D7',\n",
    "    6: 'SLICY',\n",
    "    7: 'T62',\n",
    "    8: 'T72',\n",
    "    9: 'ZIL131',\n",
    "    10: 'ZSU_23_4'\n",
    "}\n",
    "\n",
    "y_preds = np.array([class_mapping[value] for value in preds])\n",
    "y_true = np.array([class_mapping[value] for value in actual])\n",
    "\n",
    "class_labels = ['2S1', 'BMP2', 'BRDM2', 'BTR60', 'BTR70',\n",
    "                'D7', 'SLICY', 'T62', 'T72', 'ZIL131', 'ZSU_23_4']\n",
    "\n",
    "# Create the confusion matrix\n",
    "cm = confusion_matrix(y_true, y_preds, labels=class_labels)\n",
    "\n",
    "# Set figure size\n",
    "fig, ax = plt.subplots(figsize=(10, 10))\n",
    "\n",
    "# Create the heatmap using Seaborn\n",
    "sns.heatmap(cm, annot=True, fmt='d', cmap='Blues',\n",
    "            xticklabels=class_labels, yticklabels=class_labels, ax=ax)\n",
    "\n",
    "# Configure figure properties\n",
    "plt.title('Confusion Matrix')\n",
    "plt.xlabel('Predicted Class')\n",
    "plt.ylabel('True Class')\n",
    "plt.tight_layout()\n",
    "\n",
    "# Show the figure\n",
    "plt.show()\n"
   ]
  },
  {
   "cell_type": "code",
   "execution_count": null,
   "id": "6dd98262",
   "metadata": {},
   "outputs": [],
   "source": [
    "class_wise_accuracies = np.diag(cm) / cm.sum(axis=1)\n",
    "\n",
    "# Display the class-wise accuracies\n",
    "for i, accuracy in enumerate(class_wise_accuracies):\n",
    "    label = class_labels[i]\n",
    "    print(f'Accuracy of class {label}: {accuracy:.2%}')\n"
   ]
  }
 ],
 "metadata": {
  "kernelspec": {
   "display_name": "Python 3 (ipykernel)",
   "language": "python",
   "name": "python3"
  },
  "language_info": {
   "codemirror_mode": {
    "name": "ipython",
    "version": 3
   },
   "file_extension": ".py",
   "mimetype": "text/x-python",
   "name": "python",
   "nbconvert_exporter": "python",
   "pygments_lexer": "ipython3",
   "version": "3.10.0"
  }
 },
 "nbformat": 4,
 "nbformat_minor": 5
}
