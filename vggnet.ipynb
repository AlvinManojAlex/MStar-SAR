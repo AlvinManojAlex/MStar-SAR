{
 "cells": [
  {
   "cell_type": "code",
   "execution_count": 1,
   "metadata": {},
   "outputs": [],
   "source": [
    "import torch\n",
    "import torch.nn as nn\n",
    "import torch.optim as optim\n",
    "from torch.utils.data import DataLoader\n",
    "from torchvision.transforms import transforms\n",
    "from torchvision.datasets import ImageFolder\n",
    "from torchvision.models import vgg16\n",
    "import os\n",
    "import numpy as np\n",
    "from sklearn.metrics import confusion_matrix\n",
    "import seaborn as sns\n",
    "import matplotlib.pyplot as plt\n",
    "\n",
    "# Set the device to use (GPU if available, else CPU)\n",
    "device = torch.device(\"cuda\" if torch.cuda.is_available() else \"cpu\")"
   ]
  },
  {
   "cell_type": "code",
   "execution_count": 2,
   "metadata": {},
   "outputs": [],
   "source": [
    "# Set the path to your dataset\n",
    "dataset_dir = \"\"\n",
    "\n",
    "# Set the input size for resizing the images\n",
    "input_size = (128,128)\n",
    "\n",
    "# Define the transformation to be applied to the images\n",
    "transform = transforms.Compose([\n",
    "    transforms.Resize(input_size),\n",
    "    transforms.ToTensor(),\n",
    "])"
   ]
  },
  {
   "cell_type": "code",
   "execution_count": 3,
   "metadata": {},
   "outputs": [],
   "source": [
    "# Load the training dataset\n",
    "train_dataset = ImageFolder(root=os.path.join(dataset_dir, 'train'), transform=transform)\n",
    "train_loader = DataLoader(train_dataset, batch_size=32, shuffle=True)\n",
    "\n",
    "# Load the test dataset\n",
    "test_dataset = ImageFolder(root=os.path.join(dataset_dir, 'test'), transform=transform)\n",
    "test_loader = DataLoader(test_dataset, batch_size=32, shuffle=False)"
   ]
  },
  {
   "cell_type": "code",
   "execution_count": 4,
   "metadata": {},
   "outputs": [
    {
     "name": "stderr",
     "output_type": "stream",
     "text": [
      "c:\\Users\\Alvin\\AppData\\Local\\Programs\\Python\\Python310\\lib\\site-packages\\torchvision\\models\\_utils.py:208: UserWarning: The parameter 'pretrained' is deprecated since 0.13 and may be removed in the future, please use 'weights' instead.\n",
      "  warnings.warn(\n",
      "c:\\Users\\Alvin\\AppData\\Local\\Programs\\Python\\Python310\\lib\\site-packages\\torchvision\\models\\_utils.py:223: UserWarning: Arguments other than a weight enum or `None` for 'weights' are deprecated since 0.13 and may be removed in the future. The current behavior is equivalent to passing `weights=VGG16_Weights.IMAGENET1K_V1`. You can also use `weights=VGG16_Weights.DEFAULT` to get the most up-to-date weights.\n",
      "  warnings.warn(msg)\n"
     ]
    }
   ],
   "source": [
    "# Load the pre-trained VGGNet model\n",
    "model = vgg16(pretrained=True)\n",
    "num_classes = len(train_dataset.classes)\n",
    "model.classifier[6] = nn.Linear(model.classifier[6].in_features, num_classes)\n",
    "model = model.to(device)\n",
    "\n",
    "# Define the loss function and optimizer\n",
    "criterion = nn.CrossEntropyLoss()\n",
    "optimizer = optim.Adam(model.parameters(), lr=0.001)"
   ]
  },
  {
   "cell_type": "code",
   "execution_count": 6,
   "metadata": {},
   "outputs": [
    {
     "name": "stdout",
     "output_type": "stream",
     "text": [
      "Epoch [1/10] Train Loss: 0.5233 Train Accuracy: 0.8053 Test Accuracy: 0.7451\n",
      "Epoch [2/10] Train Loss: 0.4363 Train Accuracy: 0.8456 Test Accuracy: 0.7318\n",
      "Epoch [3/10] Train Loss: 0.6558 Train Accuracy: 0.7665 Test Accuracy: 0.8081\n",
      "Epoch [4/10] Train Loss: 0.3580 Train Accuracy: 0.8614 Test Accuracy: 0.8607\n",
      "Epoch [5/10] Train Loss: 0.3232 Train Accuracy: 0.8736 Test Accuracy: 0.8240\n",
      "Epoch [6/10] Train Loss: 0.3517 Train Accuracy: 0.8703 Test Accuracy: 0.8718\n",
      "Epoch [7/10] Train Loss: 0.2410 Train Accuracy: 0.9074 Test Accuracy: 0.8811\n",
      "Epoch [8/10] Train Loss: 0.2991 Train Accuracy: 0.8860 Test Accuracy: 0.8770\n",
      "Epoch [9/10] Train Loss: 0.4221 Train Accuracy: 0.8575 Test Accuracy: 0.7092\n",
      "Epoch [10/10] Train Loss: 0.3757 Train Accuracy: 0.8578 Test Accuracy: 0.8692\n"
     ]
    }
   ],
   "source": [
    "\n",
    "# # Training loop\n",
    "# num_epochs = 10\n",
    "# for epoch in range(num_epochs):\n",
    "#     model.train()\n",
    "#     train_loss = 0.0\n",
    "#     train_correct = 0\n",
    "\n",
    "#     for images, labels in train_loader:\n",
    "#         images = images.to(device)\n",
    "#         labels = labels.to(device)\n",
    "\n",
    "#         optimizer.zero_grad()\n",
    "\n",
    "#         outputs = model(images)\n",
    "#         _, predicted = torch.max(outputs, 1)\n",
    "#         train_correct += (predicted == labels).sum().item()\n",
    "\n",
    "#         loss = criterion(outputs, labels)\n",
    "#         train_loss += loss.item()\n",
    "\n",
    "#         loss.backward()\n",
    "#         optimizer.step()\n",
    "\n",
    "#     train_accuracy = train_correct / len(train_dataset)\n",
    "#     train_loss /= len(train_loader)\n",
    "\n",
    "#     # Evaluation on the test set\n",
    "#     model.eval()\n",
    "#     test_correct = 0\n",
    "\n",
    "#     with torch.no_grad():\n",
    "#         for images, labels in test_loader:\n",
    "#             images = images.to(device)\n",
    "#             labels = labels.to(device)\n",
    "\n",
    "#             outputs = model(images)\n",
    "#             _, predicted = torch.max(outputs, 1)\n",
    "#             test_correct += (predicted == labels).sum().item()\n",
    "\n",
    "#     test_accuracy = test_correct / len(test_dataset)\n",
    "\n",
    "#     print(f\"Epoch [{epoch + 1}/{num_epochs}] Train Loss: {train_loss:.4f} Train Accuracy: {train_accuracy:.4f} Test Accuracy: {test_accuracy:.4f}\")\n"
   ]
  },
  {
   "cell_type": "code",
   "execution_count": 5,
   "metadata": {},
   "outputs": [],
   "source": [
    "# Path for the saved model\n",
    "path = './models/vggnet16.pt'\n",
    "# torch.save(model.state_dict(), path)"
   ]
  },
  {
   "cell_type": "code",
   "execution_count": 6,
   "metadata": {},
   "outputs": [
    {
     "name": "stdout",
     "output_type": "stream",
     "text": [
      "Final Test Accuracy: 0.8692\n"
     ]
    }
   ],
   "source": [
    "# Calculate the final accuracy on the entire test dataset\n",
    "model.load_state_dict(torch.load(path))\n",
    "model.eval()\n",
    "test_correct = 0\n",
    "\n",
    "preds_tensor = torch.Tensor()\n",
    "labels_tensor = torch.Tensor()\n",
    "\n",
    "with torch.no_grad():\n",
    "    for images, labels in test_loader:\n",
    "        images = images.to(device)\n",
    "        labels = labels.to(device)\n",
    "\n",
    "        outputs = model(images)\n",
    "        _, predicted = torch.max(outputs, 1)\n",
    "\n",
    "        preds_tensor = torch.cat((preds_tensor, predicted))\n",
    "        labels_tensor = torch.cat((labels_tensor, labels))\n",
    "        test_correct += (predicted == labels).sum().item()\n",
    "\n",
    "final_test_accuracy = test_correct / len(test_dataset)\n",
    "print(f\"Final Test Accuracy: {final_test_accuracy:.4f}\")\n"
   ]
  },
  {
   "cell_type": "code",
   "execution_count": 7,
   "metadata": {},
   "outputs": [
    {
     "data": {
      "image/png": "[encoded data removed]",
      "text/plain": [
       "<Figure size 720x720 with 2 Axes>"
      ]
     },
     "metadata": {
      "needs_background": "light"
     },
     "output_type": "display_data"
    }
   ],
   "source": [
    "preds = preds_tensor.numpy()\n",
    "actual = labels_tensor.numpy()\n",
    "\n",
    "# Define the mapping dictionary\n",
    "class_mapping = {\n",
    "    0: '2S1',\n",
    "    1: 'BMP2',\n",
    "    2: 'BRDM2',\n",
    "    3: 'BTR60',\n",
    "    4: 'BTR70',\n",
    "    5: 'D7',\n",
    "    6: 'SLICY',\n",
    "    7: 'T62',\n",
    "    8: 'T72',\n",
    "    9: 'ZIL131',\n",
    "    10: 'ZSU_23_4'\n",
    "}\n",
    "\n",
    "y_preds = np.array([class_mapping[value] for value in preds])\n",
    "y_true = np.array([class_mapping[value] for value in actual])\n",
    "\n",
    "class_labels = ['2S1', 'BMP2', 'BRDM2', 'BTR60', 'BTR70',\n",
    "                'D7', 'SLICY', 'T62', 'T72', 'ZIL131', 'ZSU_23_4']\n",
    "\n",
    "# Create the confusion matrix\n",
    "cm = confusion_matrix(y_true, y_preds, labels=class_labels)\n",
    "\n",
    "# Set figure size\n",
    "fig, ax = plt.subplots(figsize=(10, 10))\n",
    "\n",
    "# Create the heatmap using Seaborn\n",
    "sns.heatmap(cm, annot=True, fmt='d', cmap='Greys',\n",
    "            xticklabels=class_labels, yticklabels=class_labels, ax=ax)\n",
    "\n",
    "# Configure figure properties\n",
    "plt.title('Confusion Matrix')\n",
    "plt.xlabel('Predicted Class')\n",
    "plt.ylabel('True Class')\n",
    "plt.tight_layout()\n",
    "\n",
    "# Show the figure\n",
    "plt.show()"
   ]
  },
  {
   "cell_type": "code",
   "execution_count": 28,
   "metadata": {},
   "outputs": [
    {
     "name": "stdout",
     "output_type": "stream",
     "text": [
      "Accuracy of class 2S1: 78.10%\n",
      "Accuracy of class BMP2: 56.09%\n",
      "Accuracy of class BRDM2: 89.49%\n",
      "Accuracy of class BTR60: 48.75%\n",
      "Accuracy of class BTR70: 57.21%\n",
      "Accuracy of class D7: 95.41%\n",
      "Accuracy of class SLICY: 100.00%\n",
      "Accuracy of class T62: 66.21%\n",
      "Accuracy of class T72: 84.62%\n",
      "Accuracy of class ZIL131: 92.78%\n",
      "Accuracy of class ZSU_23_4: 78.26%\n"
     ]
    }
   ],
   "source": [
    "class_wise_accuracies = np.diag(cm) / (cm.sum(axis=1) + cm.sum(axis=0) - np.diag(cm))\n",
    "\n",
    "# Display the class-wise accuracies\n",
    "for i, accuracy in enumerate(class_wise_accuracies):\n",
    "    label = class_labels[i]\n",
    "    print(f'Accuracy of class {label}: {accuracy:.2%}')"
   ]
  },
  {
   "cell_type": "code",
   "execution_count": 25,
   "metadata": {},
   "outputs": [
    {
     "data": {
      "text/plain": [
       "{'2S1': {'precision': 0.8819188191881919,\n",
       "  'recall': 0.8722627737226277,\n",
       "  'f1-score': 0.8770642201834863,\n",
       "  'support': 274},\n",
       " 'BMP2': {'precision': 0.7865853658536586,\n",
       "  'recall': 0.6615384615384615,\n",
       "  'f1-score': 0.7186629526462397,\n",
       "  'support': 195},\n",
       " 'BRDM2': {'precision': 0.9919678714859438,\n",
       "  'recall': 0.9014598540145985,\n",
       "  'f1-score': 0.9445506692160611,\n",
       "  'support': 274},\n",
       " 'BTR60': {'precision': 0.5162241887905604,\n",
       "  'recall': 0.8974358974358975,\n",
       "  'f1-score': 0.6554307116104868,\n",
       "  'support': 195},\n",
       " 'BTR70': {'precision': 0.9583333333333334,\n",
       "  'recall': 0.5867346938775511,\n",
       "  'f1-score': 0.7278481012658229,\n",
       "  'support': 196},\n",
       " 'D7': {'precision': 0.967741935483871,\n",
       "  'recall': 0.9854014598540146,\n",
       "  'f1-score': 0.976491862567812,\n",
       "  'support': 274},\n",
       " 'SLICY': {'precision': 1.0, 'recall': 1.0, 'f1-score': 1.0, 'support': 274},\n",
       " 'T62': {'precision': 0.9065420560747663,\n",
       "  'recall': 0.7106227106227107,\n",
       "  'f1-score': 0.7967145790554416,\n",
       "  'support': 273},\n",
       " 'T72': {'precision': 0.9361702127659575,\n",
       "  'recall': 0.8979591836734694,\n",
       "  'f1-score': 0.9166666666666666,\n",
       "  'support': 196},\n",
       " 'ZIL131': {'precision': 0.9884615384615385,\n",
       "  'recall': 0.9379562043795621,\n",
       "  'f1-score': 0.9625468164794009,\n",
       "  'support': 274},\n",
       " 'ZSU_23_4': {'precision': 0.7917888563049853,\n",
       "  'recall': 0.9854014598540146,\n",
       "  'f1-score': 0.8780487804878049,\n",
       "  'support': 274},\n",
       " 'accuracy': 0.8692108188217859,\n",
       " 'macro avg': {'precision': 0.8841576525220733,\n",
       "  'recall': 0.8578884271793552,\n",
       "  'f1-score': 0.8594568509253839,\n",
       "  'support': 2699},\n",
       " 'weighted avg': {'precision': 0.894127970075145,\n",
       "  'recall': 0.8692108188217859,\n",
       "  'f1-score': 0.871723113277153,\n",
       "  'support': 2699}}"
      ]
     },
     "execution_count": 25,
     "metadata": {},
     "output_type": "execute_result"
    }
   ],
   "source": [
    "from sklearn.metrics import classification_report\n",
    "\n",
    "classification_report(y_true, y_preds, labels=class_labels, output_dict=True)"
   ]
  }
 ],
 "metadata": {
  "kernelspec": {
   "display_name": "Python 3",
   "language": "python",
   "name": "python3"
  },
  "language_info": {
   "codemirror_mode": {
    "name": "ipython",
    "version": 3
   },
   "file_extension": ".py",
   "mimetype": "text/x-python",
   "name": "python",
   "nbconvert_exporter": "python",
   "pygments_lexer": "ipython3",
   "version": "3.10.6"
  },
  "orig_nbformat": 4
 },
 "nbformat": 4,
 "nbformat_minor": 2
}
