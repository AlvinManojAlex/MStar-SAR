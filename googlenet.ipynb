{
 "cells": [
  {
   "cell_type": "code",
   "execution_count": 1,
   "metadata": {
    "execution": {
     "iopub.execute_input": "2023-07-27T04:29:48.699080Z",
     "iopub.status.busy": "2023-07-27T04:29:48.698081Z",
     "iopub.status.idle": "2023-07-27T04:29:53.971075Z",
     "shell.execute_reply": "2023-07-27T04:29:53.971075Z"
    }
   },
   "outputs": [],
   "source": [
    "import torch\n",
    "import torch.nn as nn\n",
    "import torch.optim as optim\n",
    "from torch.utils.data import DataLoader\n",
    "from torchvision.transforms import transforms\n",
    "from torchvision.datasets import ImageFolder\n",
    "from torchvision.models import googlenet\n",
    "import os\n",
    "import numpy as np\n",
    "from sklearn.metrics import confusion_matrix\n",
    "import seaborn as sns\n",
    "import matplotlib.pyplot as plt\n"
   ]
  },
  {
   "cell_type": "code",
   "execution_count": 2,
   "metadata": {
    "execution": {
     "iopub.execute_input": "2023-07-27T04:29:53.971075Z",
     "iopub.status.busy": "2023-07-27T04:29:53.971075Z",
     "iopub.status.idle": "2023-07-27T04:29:53.986705Z",
     "shell.execute_reply": "2023-07-27T04:29:53.986705Z"
    }
   },
   "outputs": [],
   "source": [
    "\n",
    "# Set the device to use (GPU if available, else CPU)\n",
    "device = torch.device(\"cuda\" if torch.cuda.is_available() else \"cpu\")"
   ]
  },
  {
   "cell_type": "code",
   "execution_count": 3,
   "metadata": {
    "execution": {
     "iopub.execute_input": "2023-07-27T04:29:53.986705Z",
     "iopub.status.busy": "2023-07-27T04:29:53.986705Z",
     "iopub.status.idle": "2023-07-27T04:29:54.002323Z",
     "shell.execute_reply": "2023-07-27T04:29:54.002323Z"
    }
   },
   "outputs": [],
   "source": [
    "# Set the path to your dataset\n",
    "dataset_dir = \"\"\n",
    "\n",
    "# Set the input size for resizing the images\n",
    "input_size = (128,128)\n",
    "\n",
    "# Define the transformation to be applied to the images\n",
    "transform = transforms.Compose([\n",
    "    transforms.Resize(input_size),\n",
    "    transforms.ToTensor(),\n",
    "])\n"
   ]
  },
  {
   "cell_type": "code",
   "execution_count": 4,
   "metadata": {
    "execution": {
     "iopub.execute_input": "2023-07-27T04:29:54.002323Z",
     "iopub.status.busy": "2023-07-27T04:29:54.002323Z",
     "iopub.status.idle": "2023-07-27T04:29:54.064831Z",
     "shell.execute_reply": "2023-07-27T04:29:54.064831Z"
    }
   },
   "outputs": [],
   "source": [
    "# Load the training dataset\n",
    "train_dataset = ImageFolder(root=os.path.join(dataset_dir, 'train'), transform=transform)\n",
    "train_loader = DataLoader(train_dataset, batch_size=32, shuffle=True)\n",
    "\n",
    "# Load the test dataset\n",
    "test_dataset = ImageFolder(root=os.path.join(dataset_dir, 'test'), transform=transform)\n",
    "test_loader = DataLoader(test_dataset, batch_size=32, shuffle=False)"
   ]
  },
  {
   "cell_type": "code",
   "execution_count": 5,
   "metadata": {
    "execution": {
     "iopub.execute_input": "2023-07-27T04:29:54.064831Z",
     "iopub.status.busy": "2023-07-27T04:29:54.064831Z",
     "iopub.status.idle": "2023-07-27T04:29:54.236757Z",
     "shell.execute_reply": "2023-07-27T04:29:54.236757Z"
    }
   },
   "outputs": [
    {
     "name": "stderr",
     "output_type": "stream",
     "text": [
      "c:\\Users\\Alvin\\AppData\\Local\\Programs\\Python\\Python310\\lib\\site-packages\\torchvision\\models\\_utils.py:208: UserWarning: The parameter 'pretrained' is deprecated since 0.13 and may be removed in the future, please use 'weights' instead.\n",
      "  warnings.warn(\n",
      "c:\\Users\\Alvin\\AppData\\Local\\Programs\\Python\\Python310\\lib\\site-packages\\torchvision\\models\\_utils.py:223: UserWarning: Arguments other than a weight enum or `None` for 'weights' are deprecated since 0.13 and may be removed in the future. The current behavior is equivalent to passing `weights=GoogLeNet_Weights.IMAGENET1K_V1`. You can also use `weights=GoogLeNet_Weights.DEFAULT` to get the most up-to-date weights.\n",
      "  warnings.warn(msg)\n"
     ]
    }
   ],
   "source": [
    "# Load the pre-trained GoogLeNet model\n",
    "model = googlenet(pretrained=True)\n",
    "num_classes = len(train_dataset.classes)\n",
    "model.fc = nn.Linear(model.fc.in_features, num_classes)\n",
    "model = model.to(device)\n",
    "\n",
    "# Define the loss function and optimizer\n",
    "criterion = nn.CrossEntropyLoss()\n",
    "optimizer = optim.Adam(model.parameters(), lr=0.001)"
   ]
  },
  {
   "cell_type": "code",
   "execution_count": 6,
   "metadata": {
    "execution": {
     "iopub.execute_input": "2023-07-27T04:29:54.236757Z",
     "iopub.status.busy": "2023-07-27T04:29:54.236757Z",
     "iopub.status.idle": "2023-07-27T05:17:31.137835Z",
     "shell.execute_reply": "2023-07-27T05:17:31.137835Z"
    }
   },
   "outputs": [],
   "source": [
    "\n",
    "# # Training loop\n",
    "# num_epochs = 20\n",
    "# for epoch in range(num_epochs):\n",
    "#     model.train()\n",
    "#     train_loss = 0.0\n",
    "#     train_correct = 0\n",
    "\n",
    "#     for images, labels in train_loader:\n",
    "#         images = images.to(device)\n",
    "#         labels = labels.to(device)\n",
    "\n",
    "#         optimizer.zero_grad()\n",
    "\n",
    "#         outputs = model(images)\n",
    "#         _, predicted = torch.max(outputs, 1)\n",
    "#         train_correct += (predicted == labels).sum().item()\n",
    "\n",
    "#         loss = criterion(outputs, labels)\n",
    "#         train_loss += loss.item()\n",
    "\n",
    "#         loss.backward()\n",
    "#         optimizer.step()\n",
    "\n",
    "#     train_accuracy = train_correct / len(train_dataset)\n",
    "#     train_loss /= len(train_loader)\n",
    "\n",
    "#     # Evaluation on the test set\n",
    "#     model.eval()\n",
    "#     test_correct = 0\n",
    "\n",
    "#     with torch.no_grad():\n",
    "#         for images, labels in test_loader:\n",
    "#             images = images.to(device)\n",
    "#             labels = labels.to(device)\n",
    "\n",
    "#             outputs = model(images)\n",
    "#             _, predicted = torch.max(outputs, 1)\n",
    "#             test_correct += (predicted == labels).sum().item()\n",
    "\n",
    "#     test_accuracy = test_correct / len(test_dataset)\n",
    "\n",
    "#     print(f\"Epoch [{epoch + 1}/{num_epochs}] Train Loss: {train_loss:.4f} Train Accuracy: {train_accuracy:.4f} Test Accuracy: {test_accuracy:.4f}\")\n"
   ]
  },
  {
   "cell_type": "code",
   "execution_count": 7,
   "metadata": {
    "execution": {
     "iopub.execute_input": "2023-07-27T05:17:31.137835Z",
     "iopub.status.busy": "2023-07-27T05:17:31.137835Z",
     "iopub.status.idle": "2023-07-27T05:17:31.215984Z",
     "shell.execute_reply": "2023-07-27T05:17:31.215984Z"
    }
   },
   "outputs": [],
   "source": [
    "# Uncomment below lines to save model\n",
    "# # Path for the saved model\n",
    "path = './models/gnet.pt'\n",
    "# Comment out below line if you have already saved model and just want to retrieve it (not saving)\n",
    "# torch.save(model.state_dict(), path)"
   ]
  },
  {
   "cell_type": "code",
   "execution_count": 8,
   "metadata": {
    "execution": {
     "iopub.execute_input": "2023-07-27T05:17:31.215984Z",
     "iopub.status.busy": "2023-07-27T05:17:31.215984Z",
     "iopub.status.idle": "2023-07-27T05:18:49.287132Z",
     "shell.execute_reply": "2023-07-27T05:18:49.287132Z"
    }
   },
   "outputs": [
    {
     "name": "stdout",
     "output_type": "stream",
     "text": [
      "Final Test Accuracy: 0.9770\n"
     ]
    }
   ],
   "source": [
    "# Calculate the final accuracy on the entire test dataset\n",
    "model.load_state_dict(torch.load(path))\n",
    "model.eval()\n",
    "test_correct = 0\n",
    "\n",
    "preds_tensor = torch.Tensor()\n",
    "labels_tensor = torch.Tensor()\n",
    "\n",
    "with torch.no_grad():\n",
    "    for images, labels in test_loader:\n",
    "        images = images.to(device)\n",
    "        labels = labels.to(device)\n",
    "\n",
    "        outputs = model(images)\n",
    "        _, predicted = torch.max(outputs, 1)\n",
    "\n",
    "        preds_tensor = torch.cat((preds_tensor, predicted))\n",
    "        labels_tensor = torch.cat((labels_tensor, labels))\n",
    "        test_correct += (predicted == labels).sum().item()\n",
    "\n",
    "final_test_accuracy = test_correct / len(test_dataset)\n",
    "print(f\"Final Test Accuracy: {final_test_accuracy:.4f}\")\n"
   ]
  },
  {
   "cell_type": "code",
   "execution_count": 9,
   "metadata": {
    "execution": {
     "iopub.execute_input": "2023-07-27T05:18:49.287132Z",
     "iopub.status.busy": "2023-07-27T05:18:49.287132Z",
     "iopub.status.idle": "2023-07-27T05:18:49.924030Z",
     "shell.execute_reply": "2023-07-27T05:18:49.924030Z"
    }
   },
   "outputs": [
    {
     "data": {
      "image/png": "[encoded data removed]",
      "text/plain": [
       "<Figure size 720x720 with 2 Axes>"
      ]
     },
     "metadata": {
      "needs_background": "light"
     },
     "output_type": "display_data"
    }
   ],
   "source": [
    "preds = preds_tensor.numpy()\n",
    "actual = labels_tensor.numpy()\n",
    "\n",
    "# Define the mapping dictionary\n",
    "class_mapping = {\n",
    "    0: '2S1',\n",
    "    1: 'BMP2',\n",
    "    2: 'BRDM2',\n",
    "    3: 'BTR60',\n",
    "    4: 'BTR70',\n",
    "    5: 'D7',\n",
    "    6: 'SLICY',\n",
    "    7: 'T62',\n",
    "    8: 'T72',\n",
    "    9: 'ZIL131',\n",
    "    10: 'ZSU_23_4'\n",
    "}\n",
    "\n",
    "y_preds = np.array([class_mapping[value] for value in preds])\n",
    "y_true = np.array([class_mapping[value] for value in actual])\n",
    "\n",
    "class_labels = ['2S1', 'BMP2', 'BRDM2', 'BTR60', 'BTR70',\n",
    "                'D7', 'SLICY', 'T62', 'T72', 'ZIL131', 'ZSU_23_4']\n",
    "\n",
    "# Create the confusion matrix\n",
    "cm = confusion_matrix(y_true, y_preds, labels=class_labels)\n",
    "\n",
    "# Set figure size\n",
    "fig, ax = plt.subplots(figsize=(10, 10))\n",
    "\n",
    "# Create the heatmap using Seaborn\n",
    "sns.heatmap(cm, annot=True, fmt='d', cmap='Greys',\n",
    "            xticklabels=class_labels, yticklabels=class_labels, ax=ax)\n",
    "\n",
    "# Configure figure properties\n",
    "plt.title('Confusion Matrix')\n",
    "plt.xlabel('Predicted Class')\n",
    "plt.ylabel('True Class')\n",
    "plt.tight_layout()\n",
    "\n",
    "# Show the figure\n",
    "plt.show()\n"
   ]
  },
  {
   "cell_type": "code",
   "execution_count": 10,
   "metadata": {},
   "outputs": [
    {
     "data": {
      "text/plain": [
       "{'2S1': {'precision': 0.9891304347826086,\n",
       "  'recall': 0.9963503649635036,\n",
       "  'f1-score': 0.9927272727272726,\n",
       "  'support': 274},\n",
       " 'BMP2': {'precision': 0.9323671497584541,\n",
       "  'recall': 0.9897435897435898,\n",
       "  'f1-score': 0.9601990049751243,\n",
       "  'support': 195},\n",
       " 'BRDM2': {'precision': 1.0,\n",
       "  'recall': 0.9963503649635036,\n",
       "  'f1-score': 0.9981718464351006,\n",
       "  'support': 274},\n",
       " 'BTR60': {'precision': 0.9014084507042254,\n",
       "  'recall': 0.9846153846153847,\n",
       "  'f1-score': 0.9411764705882353,\n",
       "  'support': 195},\n",
       " 'BTR70': {'precision': 0.9940119760479041,\n",
       "  'recall': 0.8469387755102041,\n",
       "  'f1-score': 0.9146005509641874,\n",
       "  'support': 196},\n",
       " 'D7': {'precision': 0.9785714285714285,\n",
       "  'recall': 1.0,\n",
       "  'f1-score': 0.9891696750902527,\n",
       "  'support': 274},\n",
       " 'SLICY': {'precision': 1.0, 'recall': 1.0, 'f1-score': 1.0, 'support': 274},\n",
       " 'T62': {'precision': 1.0,\n",
       "  'recall': 0.9487179487179487,\n",
       "  'f1-score': 0.9736842105263158,\n",
       "  'support': 273},\n",
       " 'T72': {'precision': 0.9948186528497409,\n",
       "  'recall': 0.9795918367346939,\n",
       "  'f1-score': 0.987146529562982,\n",
       "  'support': 196},\n",
       " 'ZIL131': {'precision': 0.9785714285714285,\n",
       "  'recall': 1.0,\n",
       "  'f1-score': 0.9891696750902527,\n",
       "  'support': 274},\n",
       " 'ZSU_23_4': {'precision': 0.9638989169675091,\n",
       "  'recall': 0.9744525547445255,\n",
       "  'f1-score': 0.969147005444646,\n",
       "  'support': 274},\n",
       " 'accuracy': 0.9770285290848463,\n",
       " 'macro avg': {'precision': 0.9757071307502998,\n",
       "  'recall': 0.9742509836357595,\n",
       "  'f1-score': 0.9741083855822155,\n",
       "  'support': 2699},\n",
       " 'weighted avg': {'precision': 0.9780601076661117,\n",
       "  'recall': 0.9770285290848463,\n",
       "  'f1-score': 0.9768225472707099,\n",
       "  'support': 2699}}"
      ]
     },
     "execution_count": 10,
     "metadata": {},
     "output_type": "execute_result"
    }
   ],
   "source": [
    "from sklearn.metrics import classification_report\n",
    "\n",
    "classification_report(y_true, y_preds, labels=class_labels, output_dict=True)"
   ]
  },
  {
   "cell_type": "code",
   "execution_count": 11,
   "metadata": {},
   "outputs": [
    {
     "name": "stdout",
     "output_type": "stream",
     "text": [
      "Accuracy of class 2S1: 99.64%\n",
      "Accuracy of class BMP2: 98.97%\n",
      "Accuracy of class BRDM2: 99.64%\n",
      "Accuracy of class BTR60: 98.46%\n",
      "Accuracy of class BTR70: 84.69%\n",
      "Accuracy of class D7: 100.00%\n",
      "Accuracy of class SLICY: 100.00%\n",
      "Accuracy of class T62: 94.87%\n",
      "Accuracy of class T72: 97.96%\n",
      "Accuracy of class ZIL131: 100.00%\n",
      "Accuracy of class ZSU_23_4: 97.45%\n"
     ]
    }
   ],
   "source": [
    "matrix = confusion_matrix(y_true, y_preds, labels=class_labels)\n",
    "class_wise_accuracies = matrix.diagonal()/matrix.sum(axis=1)\n",
    "\n",
    "#Display the class-wise accuracies\n",
    "for i, accuracy in enumerate(class_wise_accuracies):\n",
    "    label = class_labels[i]\n",
    "    print(f'Accuracy of class {label}: {accuracy:.2%}')\n"
   ]
  }
 ],
 "metadata": {
  "kernelspec": {
   "display_name": "Python 3",
   "language": "python",
   "name": "python3"
  },
  "language_info": {
   "codemirror_mode": {
    "name": "ipython",
    "version": 3
   },
   "file_extension": ".py",
   "mimetype": "text/x-python",
   "name": "python",
   "nbconvert_exporter": "python",
   "pygments_lexer": "ipython3",
   "version": "3.10.6"
  }
 },
 "nbformat": 4,
 "nbformat_minor": 2
}
