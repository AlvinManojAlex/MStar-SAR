{
 "cells": [
  {
   "cell_type": "code",
   "execution_count": 1,
   "metadata": {},
   "outputs": [],
   "source": [
    "import os\n",
    "import numpy as np\n",
    "from PIL import Image\n",
    "from keras.applications.inception_v3 import InceptionV3, preprocess_input\n",
    "from keras.layers import Dense, GlobalAveragePooling2D\n",
    "from keras.models import Model\n",
    "from sklearn.preprocessing import LabelEncoder, OneHotEncoder\n",
    "from sklearn.metrics import accuracy_score\n",
    "from sklearn.model_selection import train_test_split"
   ]
  },
  {
   "cell_type": "code",
   "execution_count": 18,
   "metadata": {},
   "outputs": [],
   "source": [
    "# Set the path to the MSTAR-11 dataset directory\n",
    "dataset_dir = ''\n",
    "\n",
    "# Set the input image size for GoogleNet\n",
    "input_size = (128, 128)\n",
    "\n",
    "# Set the number of classes in your dataset\n",
    "num_classes = 11\n",
    "\n",
    "# Load the images and labels from the dataset\n",
    "images = []\n",
    "labels = []\n",
    "for folder in os.listdir(os.path.join(dataset_dir, 'train')):\n",
    "    folder_path = os.path.join(dataset_dir, 'train', folder)\n",
    "    if os.path.isdir(folder_path):\n",
    "        for filename in os.listdir(folder_path):\n",
    "            image_path = os.path.join(folder_path, filename)\n",
    "            image = Image.open(image_path).resize(input_size)\n",
    "            images.append(np.array(image))\n",
    "            labels.append(folder)\n"
   ]
  },
  {
   "cell_type": "code",
   "execution_count": 19,
   "metadata": {},
   "outputs": [],
   "source": [
    "# Convert the images and labels to numpy arrays\n",
    "\n",
    "images = np.array(images)\n",
    "labels = np.array(labels)"
   ]
  },
  {
   "cell_type": "code",
   "execution_count": 20,
   "metadata": {},
   "outputs": [
    {
     "name": "stderr",
     "output_type": "stream",
     "text": [
      "c:\\Users\\kaushal\\AppData\\Local\\Programs\\Python\\Python310\\lib\\site-packages\\sklearn\\preprocessing\\_encoders.py:868: FutureWarning: `sparse` was renamed to `sparse_output` in version 1.2 and will be removed in 1.4. `sparse_output` is ignored unless you leave `sparse` to its default value.\n",
      "  warnings.warn(\n"
     ]
    }
   ],
   "source": [
    "\n",
    "\n",
    "\n",
    "# Perform one-hot encoding on the labels\n",
    "label_encoder = LabelEncoder()\n",
    "integer_labels = label_encoder.fit_transform(labels)\n",
    "onehot_encoder = OneHotEncoder(sparse=False)\n",
    "integer_labels = integer_labels.reshape(len(integer_labels), 1)\n",
    "onehot_labels = onehot_encoder.fit_transform(integer_labels)\n",
    "\n",
    "# Preprocess the images\n",
    "preprocessed_images = preprocess_input(images)\n",
    "\n",
    "# Split the dataset into training and testing sets\n",
    "X_train, X_test, y_train, y_test = train_test_split(preprocessed_images, onehot_labels, test_size=0.2, random_state=42)\n",
    "\n"
   ]
  },
  {
   "cell_type": "code",
   "execution_count": null,
   "metadata": {},
   "outputs": [],
   "source": []
  },
  {
   "cell_type": "code",
   "execution_count": 21,
   "metadata": {},
   "outputs": [],
   "source": [
    "# Load the pretrained GoogleNet model\n",
    "base_model = InceptionV3(weights='imagenet', include_top=False)\n",
    "\n",
    "# Add custom classification layers\n",
    "x = base_model.output\n",
    "x = GlobalAveragePooling2D()(x)\n",
    "x = Dense(1024, activation='relu')(x)\n",
    "predictions = Dense(num_classes, activation='softmax')(x)\n",
    "\n",
    "# Create the final model\n",
    "model = Model(inputs=base_model.input, outputs=predictions)\n",
    "\n",
    "# Compile the model\n",
    "model.compile(optimizer='adam', loss='categorical_crossentropy', metrics=['accuracy'])"
   ]
  },
  {
   "cell_type": "code",
   "execution_count": 22,
   "metadata": {},
   "outputs": [
    {
     "name": "stdout",
     "output_type": "stream",
     "text": [
      "(2436, 128, 128)\n",
      "(2436, 11)\n"
     ]
    }
   ],
   "source": [
    "print(X_train.shape)  # Verify the shape of X_train\n",
    "print(y_train.shape)  # Verify the shape of y_train\n"
   ]
  },
  {
   "cell_type": "code",
   "execution_count": 26,
   "metadata": {},
   "outputs": [],
   "source": [
    "X_train_rgb = np.repeat(X_train[..., np.newaxis], 3, -1)"
   ]
  },
  {
   "cell_type": "code",
   "execution_count": 27,
   "metadata": {},
   "outputs": [
    {
     "name": "stdout",
     "output_type": "stream",
     "text": [
      "Epoch 1/10\n",
      "77/77 [==============================] - 198s 2s/step - loss: 1.3574 - accuracy: 0.5686\n",
      "Epoch 2/10\n",
      "77/77 [==============================] - 189s 2s/step - loss: 0.6915 - accuracy: 0.7943\n",
      "Epoch 3/10\n",
      "77/77 [==============================] - 181s 2s/step - loss: 0.3970 - accuracy: 0.8822\n",
      "Epoch 4/10\n",
      "77/77 [==============================] - 182s 2s/step - loss: 0.4937 - accuracy: 0.8563\n",
      "Epoch 5/10\n",
      "77/77 [==============================] - 183s 2s/step - loss: 0.3102 - accuracy: 0.9076\n",
      "Epoch 6/10\n",
      "77/77 [==============================] - 186s 2s/step - loss: 0.2128 - accuracy: 0.9380\n",
      "Epoch 7/10\n",
      "77/77 [==============================] - 184s 2s/step - loss: 0.1866 - accuracy: 0.9511\n",
      "Epoch 8/10\n",
      "77/77 [==============================] - 182s 2s/step - loss: 0.2176 - accuracy: 0.9446\n",
      "Epoch 9/10\n",
      "77/77 [==============================] - 183s 2s/step - loss: 0.3164 - accuracy: 0.9105\n",
      "Epoch 10/10\n",
      "77/77 [==============================] - 183s 2s/step - loss: 0.1078 - accuracy: 0.9692\n"
     ]
    },
    {
     "data": {
      "text/plain": [
       "<keras.callbacks.History at 0x1565bf4d1b0>"
      ]
     },
     "execution_count": 27,
     "metadata": {},
     "output_type": "execute_result"
    }
   ],
   "source": [
    "# Train the model\n",
    "model.fit(X_train_rgb, y_train, batch_size=32, epochs=10)"
   ]
  },
  {
   "cell_type": "code",
   "execution_count": 40,
   "metadata": {},
   "outputs": [
    {
     "name": "stdout",
     "output_type": "stream",
     "text": [
      "20/20 [==============================] - 10s 493ms/step\n"
     ]
    },
    {
     "data": {
      "text/plain": [
       "array([[0., 0., 0., ..., 0., 0., 0.],\n",
       "       [0., 0., 1., ..., 0., 0., 0.],\n",
       "       [0., 0., 0., ..., 0., 0., 0.],\n",
       "       ...,\n",
       "       [0., 0., 0., ..., 1., 0., 0.],\n",
       "       [0., 1., 0., ..., 0., 0., 0.],\n",
       "       [0., 0., 0., ..., 0., 0., 1.]])"
      ]
     },
     "execution_count": 40,
     "metadata": {},
     "output_type": "execute_result"
    }
   ],
   "source": [
    "# Evaluate the model on the testing set\n",
    "X_test_rgb = np.repeat(X_test[..., np.newaxis], 3, -1)\n",
    "y_pred = model.predict(X_test_rgb)\n",
    "y_pred_classes = np.argmax(y_pred, axis=1)\n",
    "y_test\n"
   ]
  },
  {
   "cell_type": "code",
   "execution_count": 41,
   "metadata": {},
   "outputs": [],
   "source": [
    "# Convert one-hot encoded labels back to integer labels\n",
    "y_test_classes = np.argmax(y_test, axis=1)"
   ]
  },
  {
   "cell_type": "code",
   "execution_count": 38,
   "metadata": {},
   "outputs": [
    {
     "name": "stdout",
     "output_type": "stream",
     "text": [
      "(609, 128, 128)\n",
      "(609,)\n",
      "(2436,)\n"
     ]
    }
   ],
   "source": [
    "print(X_test.shape)           # Shape of the testing dataset\n",
    "print(y_test_classes.shape)   # Shape of the true labels for testing\n",
    "print(y_pred_classes.shape)"
   ]
  },
  {
   "cell_type": "code",
   "execution_count": 42,
   "metadata": {},
   "outputs": [
    {
     "name": "stdout",
     "output_type": "stream",
     "text": [
      "Accuracy: 0.7339901477832512\n"
     ]
    }
   ],
   "source": [
    "\n",
    "\n",
    "\n",
    "# Calculate accuracy\n",
    "accuracy = accuracy_score(y_test_classes, y_pred_classes)\n",
    "print('Accuracy:', accuracy)\n"
   ]
  }
 ],
 "metadata": {
  "kernelspec": {
   "display_name": "Python 3",
   "language": "python",
   "name": "python3"
  },
  "language_info": {
   "codemirror_mode": {
    "name": "ipython",
    "version": 3
   },
   "file_extension": ".py",
   "mimetype": "text/x-python",
   "name": "python",
   "nbconvert_exporter": "python",
   "pygments_lexer": "ipython3",
   "version": "3.10.6"
  },
  "orig_nbformat": 4
 },
 "nbformat": 4,
 "nbformat_minor": 2
}
