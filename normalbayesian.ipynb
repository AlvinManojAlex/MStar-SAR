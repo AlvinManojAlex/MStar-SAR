{
 "cells": [
  {
   "cell_type": "code",
   "execution_count": 3,
   "metadata": {},
   "outputs": [],
   "source": [
    "import torch\n",
    "import torch.nn as nn\n",
    "import torch.optim as optim\n",
    "import torch.utils.data as data\n",
    "from torchvision.datasets import ImageFolder\n",
    "from torchvision.transforms import transforms\n",
    "from torch.utils.data import DataLoader\n",
    "import torch.nn.functional as F\n",
    "import numpy as np\n",
    "import os\n",
    "\n",
    "# Set the device to use (GPU if available, else CPU)\n",
    "device = torch.device(\"cuda\" if torch.cuda.is_available() else \"cpu\")\n",
    "\n",
    "# Set the path to your dataset\n",
    "dataset_dir = \"\"\n",
    "\n",
    "# Set the input size for resizing the images\n",
    "input_size = (128,128)"
   ]
  },
  {
   "cell_type": "code",
   "execution_count": 4,
   "metadata": {},
   "outputs": [],
   "source": [
    "# Define the transformation to be applied to the images\n",
    "transform = transforms.Compose([\n",
    "    transforms.Resize(input_size),\n",
    "    transforms.ToTensor(),\n",
    "])\n",
    "\n",
    "# Load the training dataset\n",
    "train_dataset = ImageFolder(root=os.path.join(dataset_dir, 'train'), transform=transform)\n",
    "train_loader = DataLoader(train_dataset, batch_size=32, shuffle=True)\n",
    "\n",
    "# Load the test dataset\n",
    "test_dataset = ImageFolder(root=os.path.join(dataset_dir, 'test'), transform=transform)\n",
    "test_loader = DataLoader(test_dataset, batch_size=32, shuffle=False)"
   ]
  },
  {
   "cell_type": "code",
   "execution_count": 5,
   "metadata": {},
   "outputs": [],
   "source": [
    "\n",
    "# Define the Bayesian Neural Network model\n",
    "class BayesianNet(nn.Module):\n",
    "    def __init__(self, input_dim, output_dim, hidden_dim=512, dropout_rate=0.5):\n",
    "        super(BayesianNet, self).__init__()\n",
    "        self.fc1 = nn.Linear(input_dim, hidden_dim)\n",
    "        self.fc2 = nn.Linear(hidden_dim, hidden_dim)\n",
    "        self.fc3 = nn.Linear(hidden_dim, output_dim)\n",
    "        self.dropout = nn.Dropout(dropout_rate)\n",
    "\n",
    "    def forward(self, x):\n",
    "        x = x.view(x.size(0), -1)\n",
    "        x = F.relu(self.fc1(x))\n",
    "        x = self.dropout(x)\n",
    "        x = F.relu(self.fc2(x))\n",
    "        x = self.dropout(x)\n",
    "        x = self.fc3(x)\n",
    "        return x\n",
    "\n",
    "# Define the training loop\n",
    "def train(model, optimizer, criterion, train_loader, device):\n",
    "    model.train()\n",
    "    train_loss = 0.0\n",
    "    train_correct = 0\n",
    "\n",
    "    for images, labels in train_loader:\n",
    "        images = images.to(device)\n",
    "        labels = labels.to(device)\n",
    "\n",
    "        optimizer.zero_grad()\n",
    "\n",
    "        outputs = model(images)\n",
    "        _, predicted = torch.max(outputs, 1)\n",
    "        train_correct += (predicted == labels).sum().item()\n",
    "\n",
    "        loss = criterion(outputs, labels)\n",
    "        train_loss += loss.item()\n",
    "\n",
    "        loss.backward()\n",
    "        optimizer.step()\n",
    "\n",
    "    train_accuracy = train_correct / len(train_dataset)\n",
    "    train_loss /= len(train_loader)\n",
    "\n",
    "    return train_loss, train_accuracy\n",
    "\n",
    "# Define the evaluation loop\n",
    "def evaluate(model, criterion, test_loader, device):\n",
    "    model.eval()\n",
    "    test_correct = 0\n",
    "\n",
    "    with torch.no_grad():\n",
    "        for images, labels in test_loader:\n",
    "            images = images.to(device)\n",
    "            labels = labels.to(device)\n",
    "\n",
    "            outputs = model(images)\n",
    "            _, predicted = torch.max(outputs, 1)\n",
    "            test_correct += (predicted == labels).sum().item()\n",
    "\n",
    "    test_accuracy = test_correct / len(test_dataset)\n",
    "\n",
    "    return test_accuracy\n"
   ]
  },
  {
   "cell_type": "code",
   "execution_count": 6,
   "metadata": {},
   "outputs": [],
   "source": [
    "# Set the random seed for reproducibility\n",
    "seed = 42\n",
    "torch.manual_seed(seed)\n",
    "np.random.seed(seed)\n",
    "\n",
    "# Initialize the Bayesian neural network model\n",
    "input_dim = 3 * input_size[0] * input_size[1]  # Channels * Height *Width of the input images\n",
    "output_dim = len(train_dataset.classes)  # Number of classes\n",
    "model = BayesianNet(input_dim, output_dim)\n",
    "model = model.to(device)\n",
    "\n",
    "# Define the loss function and optimizer\n",
    "criterion = nn.CrossEntropyLoss()\n",
    "optimizer = optim.Adam(model.parameters(), lr=0.001)"
   ]
  },
  {
   "cell_type": "code",
   "execution_count": 8,
   "metadata": {},
   "outputs": [
    {
     "name": "stdout",
     "output_type": "stream",
     "text": [
      "Epoch [1/10] Train Loss: 2.1643 Train Accuracy: 0.2020 Test Accuracy: 0.3757\n",
      "Epoch [2/10] Train Loss: 1.8438 Train Accuracy: 0.2778 Test Accuracy: 0.3701\n",
      "Epoch [3/10] Train Loss: 1.7435 Train Accuracy: 0.3179 Test Accuracy: 0.5591\n",
      "Epoch [4/10] Train Loss: 1.6181 Train Accuracy: 0.3685 Test Accuracy: 0.5306\n",
      "Epoch [5/10] Train Loss: 1.5787 Train Accuracy: 0.3911 Test Accuracy: 0.7180\n",
      "Epoch [6/10] Train Loss: 1.4311 Train Accuracy: 0.4608 Test Accuracy: 0.7003\n",
      "Epoch [7/10] Train Loss: 1.4737 Train Accuracy: 0.4411 Test Accuracy: 0.6462\n",
      "Epoch [8/10] Train Loss: 1.3819 Train Accuracy: 0.4768 Test Accuracy: 0.6584\n",
      "Epoch [9/10] Train Loss: 1.3137 Train Accuracy: 0.5218 Test Accuracy: 0.6073\n",
      "Epoch [10/10] Train Loss: 1.3203 Train Accuracy: 0.5015 Test Accuracy: 0.6825\n"
     ]
    }
   ],
   "source": [
    "# Training loop\n",
    "num_epochs = 10\n",
    "for epoch in range(num_epochs):\n",
    "    train_loss, train_accuracy = train(model, optimizer, criterion, train_loader, device)\n",
    "    test_accuracy = evaluate(model, criterion, test_loader, device)\n",
    "\n",
    "    print(f\"Epoch [{epoch + 1}/{num_epochs}] Train Loss: {train_loss:.4f} Train Accuracy: {train_accuracy:.4f} Test Accuracy: {test_accuracy:.4f}\")\n",
    "\n"
   ]
  },
  {
   "cell_type": "code",
   "execution_count": 9,
   "metadata": {},
   "outputs": [
    {
     "name": "stdout",
     "output_type": "stream",
     "text": [
      "Final Test Accuracy: 0.6825\n"
     ]
    }
   ],
   "source": [
    "# Calculate the final accuracy on the entire test dataset\n",
    "final_test_accuracy = evaluate(model, criterion, test_loader, device)\n",
    "print(f\"Final Test Accuracy: {final_test_accuracy:.4f}\")"
   ]
  }
 ],
 "metadata": {
  "kernelspec": {
   "display_name": "Python 3",
   "language": "python",
   "name": "python3"
  },
  "language_info": {
   "codemirror_mode": {
    "name": "ipython",
    "version": 3
   },
   "file_extension": ".py",
   "mimetype": "text/x-python",
   "name": "python",
   "nbconvert_exporter": "python",
   "pygments_lexer": "ipython3",
   "version": "3.10.6"
  },
  "orig_nbformat": 4
 },
 "nbformat": 4,
 "nbformat_minor": 2
}
